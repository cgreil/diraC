{
 "cells": [
  {
   "cell_type": "code",
   "execution_count": 91,
   "id": "0e87f4b3",
   "metadata": {},
   "outputs": [],
   "source": [
    "using Yao\n",
    "using YaoPlots\n",
    "using LinearAlgebra\n",
    "using Kronecker"
   ]
  },
  {
   "cell_type": "code",
   "execution_count": 12,
   "id": "060260a8",
   "metadata": {},
   "outputs": [
    {
     "data": {
      "text/plain": [
       "4.857364"
      ]
     },
     "execution_count": 12,
     "metadata": {},
     "output_type": "execute_result"
    }
   ],
   "source": [
    "xPhase = 1.503123\n",
    "yPhase = 0.825345 \n",
    "zPhase = 4.857364 "
   ]
  },
  {
   "cell_type": "code",
   "execution_count": 3,
   "id": "2a3cbc67",
   "metadata": {},
   "outputs": [
    {
     "data": {
      "text/plain": [
       "ArrayReg{2, ComplexF64, Array...}\n",
       "    active qubits: 3/3\n",
       "    nlevel: 2"
      ]
     },
     "execution_count": 3,
     "metadata": {},
     "output_type": "execute_result"
    }
   ],
   "source": [
    "register = ArrayReg(bit\"000\")"
   ]
  },
  {
   "cell_type": "code",
   "execution_count": 14,
   "id": "d1575f46",
   "metadata": {},
   "outputs": [
    {
     "data": {
      "text/plain": [
       "ArrayReg{2, ComplexF64, Array...}\n",
       "    active qubits: 3/3\n",
       "    nlevel: 2"
      ]
     },
     "execution_count": 14,
     "metadata": {},
     "output_type": "execute_result"
    }
   ],
   "source": [
    "#prepare bell state\n",
    "bellCirc = chain(3, put(2=>H), control(1, 2=>X))\n",
    "state1 = register |> bellCirc"
   ]
  },
  {
   "cell_type": "code",
   "execution_count": 19,
   "id": "7f033e7d",
   "metadata": {},
   "outputs": [
    {
     "data": {
      "text/plain": [
       "8×1 Matrix{ComplexF64}:\n",
       " 0.4999999999999999 + 0.0im\n",
       " 0.4999999999999999 + 0.0im\n",
       " 0.4999999999999999 + 0.0im\n",
       " 0.4999999999999999 + 0.0im\n",
       "                0.0 + 0.0im\n",
       "                0.0 + 0.0im\n",
       "                0.0 + 0.0im\n",
       "                0.0 + 0.0im"
      ]
     },
     "execution_count": 19,
     "metadata": {},
     "output_type": "execute_result"
    }
   ],
   "source": [
    "state(state1)"
   ]
  },
  {
   "cell_type": "code",
   "execution_count": 23,
   "id": "181cfa86",
   "metadata": {},
   "outputs": [
    {
     "data": {
      "text/plain": [
       "ArrayReg{2, ComplexF64, Array...}\n",
       "    active qubits: 3/3\n",
       "    nlevel: 2"
      ]
     },
     "execution_count": 23,
     "metadata": {},
     "output_type": "execute_result"
    }
   ],
   "source": [
    "# Apply randomized rotations \n",
    "rotCirc = chain(3, put(1=>Rx(xPhase)), put(1=>Ry(yPhase)), put(1=>Rz(zPhase)))\n",
    "state2 = state1 |> rotCirc"
   ]
  },
  {
   "cell_type": "code",
   "execution_count": 24,
   "id": "8c9ece09",
   "metadata": {},
   "outputs": [
    {
     "data": {
      "text/plain": [
       "8×1 Matrix{ComplexF64}:\n",
       "  -0.2573043676124354 + 0.009949986808513459im\n",
       " -0.06988852469142959 + 0.6548366622956677im\n",
       "  -0.2573043676124354 + 0.009949986808513459im\n",
       " -0.06988852469142959 + 0.6548366622956677im\n",
       "                  0.0 + 0.0im\n",
       "                  0.0 + 0.0im\n",
       "                  0.0 + 0.0im\n",
       "                  0.0 + 0.0im"
      ]
     },
     "execution_count": 24,
     "metadata": {},
     "output_type": "execute_result"
    }
   ],
   "source": [
    "state(state2)"
   ]
  },
  {
   "cell_type": "code",
   "execution_count": 25,
   "id": "9e025a9e",
   "metadata": {},
   "outputs": [
    {
     "data": {
      "text/plain": [
       "ArrayReg{2, ComplexF64, Array...}\n",
       "    active qubits: 3/3\n",
       "    nlevel: 2"
      ]
     },
     "execution_count": 25,
     "metadata": {},
     "output_type": "execute_result"
    }
   ],
   "source": [
    "entangleCirc = chain(3, control(1, 2=>X), put(1=>H))\n",
    "state3 = state2 |> entangleCirc"
   ]
  },
  {
   "cell_type": "code",
   "execution_count": 26,
   "id": "2cf3e8a7",
   "metadata": {},
   "outputs": [
    {
     "data": {
      "text/plain": [
       "8×1 Matrix{ComplexF64}:\n",
       " -0.23136031290410264 + 0.47007514762384833im\n",
       " -0.13252301343123601 - 0.4560037413338152im\n",
       " -0.23136031290410264 + 0.47007514762384833im\n",
       " -0.13252301343123601 - 0.4560037413338152im\n",
       "                  0.0 + 0.0im\n",
       "                  0.0 + 0.0im\n",
       "                  0.0 + 0.0im\n",
       "                  0.0 + 0.0im"
      ]
     },
     "execution_count": 26,
     "metadata": {},
     "output_type": "execute_result"
    }
   ],
   "source": [
    "state(state3)"
   ]
  },
  {
   "cell_type": "code",
   "execution_count": 92,
   "id": "a851bca8",
   "metadata": {},
   "outputs": [
    {
     "ename": "LoadError",
     "evalue": "MethodError: no method matching ⊗(::Matrix{Int64}, ::UniformScaling{Bool})\nThe function `⊗` exists, but no method is defined for this combination of argument types.\n\n\u001b[0mClosest candidates are:\n\u001b[0m  ⊗(::AbstractVecOrMat, \u001b[91m::AbstractVecOrMat\u001b[39m)\n\u001b[0m\u001b[90m   @\u001b[39m \u001b[35mKronecker\u001b[39m \u001b[90m~/.julia/packages/Kronecker/wdc6I/src/\u001b[39m\u001b[90m\u001b[4mbase.jl:92\u001b[24m\u001b[39m\n\u001b[0m  ⊗(\u001b[91m::AbstractVecOrMat...\u001b[39m)\n\u001b[0m\u001b[90m   @\u001b[39m \u001b[35mKronecker\u001b[39m \u001b[90m~/.julia/packages/Kronecker/wdc6I/src/\u001b[39m\u001b[90m\u001b[4mbase.jl:93\u001b[24m\u001b[39m\n\u001b[0m  ⊗(::AbstractMatrix, \u001b[91m::Integer\u001b[39m)\n\u001b[0m\u001b[90m   @\u001b[39m \u001b[35mKronecker\u001b[39m \u001b[90m~/.julia/packages/Kronecker/wdc6I/src/\u001b[39m\u001b[90m\u001b[4mkroneckerpowers.jl:39\u001b[24m\u001b[39m\n",
     "output_type": "error",
     "traceback": [
      "MethodError: no method matching ⊗(::Matrix{Int64}, ::UniformScaling{Bool})\nThe function `⊗` exists, but no method is defined for this combination of argument types.\n\n\u001b[0mClosest candidates are:\n\u001b[0m  ⊗(::AbstractVecOrMat, \u001b[91m::AbstractVecOrMat\u001b[39m)\n\u001b[0m\u001b[90m   @\u001b[39m \u001b[35mKronecker\u001b[39m \u001b[90m~/.julia/packages/Kronecker/wdc6I/src/\u001b[39m\u001b[90m\u001b[4mbase.jl:92\u001b[24m\u001b[39m\n\u001b[0m  ⊗(\u001b[91m::AbstractVecOrMat...\u001b[39m)\n\u001b[0m\u001b[90m   @\u001b[39m \u001b[35mKronecker\u001b[39m \u001b[90m~/.julia/packages/Kronecker/wdc6I/src/\u001b[39m\u001b[90m\u001b[4mbase.jl:93\u001b[24m\u001b[39m\n\u001b[0m  ⊗(::AbstractMatrix, \u001b[91m::Integer\u001b[39m)\n\u001b[0m\u001b[90m   @\u001b[39m \u001b[35mKronecker\u001b[39m \u001b[90m~/.julia/packages/Kronecker/wdc6I/src/\u001b[39m\u001b[90m\u001b[4mkroneckerpowers.jl:39\u001b[24m\u001b[39m\n",
      "",
      "Stacktrace:",
      " [1] top-level scope",
      "   @ In[92]:7"
     ]
    }
   ],
   "source": [
    "ket0 = [1, 0]\n",
    "ket1 = [0, 1]\n",
    "\n",
    "P0 = ket0 * ket0'\n",
    "P1 = ket1 * ket1'\n",
    "\n",
    "expandedP0one = P0 ⊗ I ⊗ I\n",
    "expandedP1one = P1 ⊗ I ⊗ I \n",
    "\n",
    "expandedP0two = I ⊗ P0 ⊗ I\n",
    "expandedP1two = I ⊗ P1 ⊗ I "
   ]
  },
  {
   "cell_type": "code",
   "execution_count": null,
   "id": "599506dc",
   "metadata": {},
   "outputs": [],
   "source": []
  },
  {
   "cell_type": "code",
   "execution_count": 89,
   "id": "121f23cd",
   "metadata": {},
   "outputs": [
    {
     "data": {
      "text/plain": [
       "1-element Vector{DitStr{2, 3, Int64}}:\n",
       " 000 ₍₂₎"
      ]
     },
     "execution_count": 89,
     "metadata": {},
     "output_type": "execute_result"
    }
   ],
   "source": [
    "state4 = measure(state3)"
   ]
  },
  {
   "cell_type": "code",
   "execution_count": 48,
   "id": "99110d66",
   "metadata": {},
   "outputs": [
    {
     "data": {
      "text/plain": [
       "8×1 Matrix{ComplexF64}:\n",
       " -0.23136031290410264 + 0.47007514762384833im\n",
       " -0.13252301343123601 - 0.4560037413338152im\n",
       " -0.23136031290410264 + 0.47007514762384833im\n",
       " -0.13252301343123601 - 0.4560037413338152im\n",
       "                  0.0 + 0.0im\n",
       "                  0.0 + 0.0im\n",
       "                  0.0 + 0.0im\n",
       "                  0.0 + 0.0im"
      ]
     },
     "execution_count": 48,
     "metadata": {},
     "output_type": "execute_result"
    }
   ],
   "source": [
    "state(state3)"
   ]
  }
 ],
 "metadata": {
  "kernelspec": {
   "display_name": "Julia 1.11.5",
   "language": "julia",
   "name": "julia-1.11"
  },
  "language_info": {
   "file_extension": ".jl",
   "mimetype": "application/julia",
   "name": "julia",
   "version": "1.11.5"
  },
  "latex_envs": {
   "LaTeX_envs_menu_present": true,
   "autoclose": false,
   "autocomplete": true,
   "bibliofile": "biblio.bib",
   "cite_by": "apalike",
   "current_citInitial": 1,
   "eqLabelWithNumbers": true,
   "eqNumInitial": 1,
   "hotkeys": {
    "equation": "Ctrl-E",
    "itemize": "Ctrl-I"
   },
   "labels_anchors": false,
   "latex_user_defs": false,
   "report_style_numbering": false,
   "user_envs_cfg": true
  }
 },
 "nbformat": 4,
 "nbformat_minor": 5
}
