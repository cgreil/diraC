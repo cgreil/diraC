{
 "cells": [
  {
   "cell_type": "code",
   "execution_count": 1,
   "id": "0e87f4b3",
   "metadata": {
    "scrolled": false
   },
   "outputs": [
    {
     "name": "stderr",
     "output_type": "stream",
     "text": [
      "\u001b[36m\u001b[1m[ \u001b[22m\u001b[39m\u001b[36m\u001b[1mInfo: \u001b[22m\u001b[39mPrecompiling Yao [5872b779-8223-5990-8dd0-5abbb0748c8c] (cache misses: incompatible header (6), dep missing source (2))\n",
      "WARNING: Method definition convert(Type{var\"#s14\"} where var\"#s14\"<:(LinearAlgebra.Diagonal{T, V} where V<:AbstractArray{T, 1} where T), AbstractArray{T, 2} where T) in module LinearAlgebra at /cache/build/tester-amdci5-12/julialang/julia-release-1-dot-11/usr/share/julia/stdlib/v1.11/LinearAlgebra/src/diagonal.jl:105 overwritten in module LuxurySparse at /home/christoph/.julia/packages/LuxurySparse/qV7pU/src/conversions.jl:114.\n",
      "ERROR: Method overwriting is not permitted during Module precompilation. Use `__precompile__(false)` to opt-out of precompilation.\n",
      "\u001b[36m\u001b[1m┌ \u001b[22m\u001b[39m\u001b[36m\u001b[1mInfo: \u001b[22m\u001b[39mSkipping precompilation due to precompilable error. Importing Yao [5872b779-8223-5990-8dd0-5abbb0748c8c].\n",
      "\u001b[36m\u001b[1m└ \u001b[22m\u001b[39m  exception = Error when precompiling module, potentially caused by a __precompile__(false) declaration in the module.\n",
      "\u001b[36m\u001b[1m[ \u001b[22m\u001b[39m\u001b[36m\u001b[1mInfo: \u001b[22m\u001b[39mPrecompiling YaoBase [a8f54c17-34bc-5a9d-b050-f522fe3f755f] \n",
      "WARNING: Method definition convert(Type{var\"#s14\"} where var\"#s14\"<:(LinearAlgebra.Diagonal{T, V} where V<:AbstractArray{T, 1} where T), AbstractArray{T, 2} where T) in module LinearAlgebra at /cache/build/tester-amdci5-12/julialang/julia-release-1-dot-11/usr/share/julia/stdlib/v1.11/LinearAlgebra/src/diagonal.jl:105 overwritten in module LuxurySparse at /home/christoph/.julia/packages/LuxurySparse/qV7pU/src/conversions.jl:114.\n",
      "ERROR: Method overwriting is not permitted during Module precompilation. Use `__precompile__(false)` to opt-out of precompilation.\n",
      "\u001b[36m\u001b[1m┌ \u001b[22m\u001b[39m\u001b[36m\u001b[1mInfo: \u001b[22m\u001b[39mSkipping precompilation due to precompilable error. Importing YaoBase [a8f54c17-34bc-5a9d-b050-f522fe3f755f].\n",
      "\u001b[36m\u001b[1m└ \u001b[22m\u001b[39m  exception = Error when precompiling module, potentially caused by a __precompile__(false) declaration in the module.\n",
      "\u001b[36m\u001b[1m[ \u001b[22m\u001b[39m\u001b[36m\u001b[1mInfo: \u001b[22m\u001b[39mPrecompiling LuxurySparse [d05aeea4-b7d4-55ac-b691-9e7fabb07ba2] (cache misses: wrong source (2), incompatible header (6))\n",
      "WARNING: Method definition convert(Type{var\"#s14\"} where var\"#s14\"<:(LinearAlgebra.Diagonal{T, V} where V<:AbstractArray{T, 1} where T), AbstractArray{T, 2} where T) in module LinearAlgebra at /cache/build/tester-amdci5-12/julialang/julia-release-1-dot-11/usr/share/julia/stdlib/v1.11/LinearAlgebra/src/diagonal.jl:105 overwritten in module LuxurySparse at /home/christoph/.julia/packages/LuxurySparse/qV7pU/src/conversions.jl:114.\n",
      "ERROR: Method overwriting is not permitted during Module precompilation. Use `__precompile__(false)` to opt-out of precompilation.\n",
      "\u001b[36m\u001b[1m┌ \u001b[22m\u001b[39m\u001b[36m\u001b[1mInfo: \u001b[22m\u001b[39mSkipping precompilation due to precompilable error. Importing LuxurySparse [d05aeea4-b7d4-55ac-b691-9e7fabb07ba2].\n",
      "\u001b[36m\u001b[1m└ \u001b[22m\u001b[39m  exception = Error when precompiling module, potentially caused by a __precompile__(false) declaration in the module.\n",
      "WARNING: method definition for rot_mat at /home/christoph/.julia/packages/YaoBase/THQ5L/src/utils/math.jl:316 declares type variable N but does not use it.\n",
      "WARNING: method definition for #measure!#42 at /home/christoph/.julia/packages/YaoBase/THQ5L/src/abstract_register.jl:72 declares type variable MODE but does not use it.\n",
      "WARNING: method definition for #measure#43 at /home/christoph/.julia/packages/YaoBase/THQ5L/src/abstract_register.jl:90 declares type variable MODE but does not use it.\n",
      "\u001b[36m\u001b[1m[ \u001b[22m\u001b[39m\u001b[36m\u001b[1mInfo: \u001b[22m\u001b[39mPrecompiling YaoArrayRegister [e600142f-9330-5003-8abb-0ebd767abc51] (cache misses: wrong dep version loaded (2), incompatible header (6))\n",
      "\u001b[33m\u001b[1m┌ \u001b[22m\u001b[39m\u001b[33m\u001b[1mWarning: \u001b[22m\u001b[39mModule YaoBase with build ID ffffffff-ffff-ffff-0000-04cc1a48d685 is missing from the cache.\n",
      "\u001b[33m\u001b[1m│ \u001b[22m\u001b[39mThis may mean YaoBase [a8f54c17-34bc-5a9d-b050-f522fe3f755f] does not support precompilation but is imported by a module that does.\n",
      "\u001b[33m\u001b[1m└ \u001b[22m\u001b[39m\u001b[90m@ Base loading.jl:2541\u001b[39m\n",
      "\u001b[36m\u001b[1m┌ \u001b[22m\u001b[39m\u001b[36m\u001b[1mInfo: \u001b[22m\u001b[39mSkipping precompilation due to precompilable error. Importing YaoArrayRegister [e600142f-9330-5003-8abb-0ebd767abc51].\n",
      "\u001b[36m\u001b[1m└ \u001b[22m\u001b[39m  exception = Error when precompiling module, potentially caused by a __precompile__(false) declaration in the module.\n",
      "WARNING: method definition for instruct! at /home/christoph/.julia/packages/YaoArrayRegister/dHtyf/src/instruct.jl:123 declares type variable M but does not use it.\n",
      "WARNING: method definition for instruct! at /home/christoph/.julia/packages/YaoArrayRegister/dHtyf/src/instruct.jl:368 declares type variable N but does not use it.\n",
      "WARNING: method definition for instruct! at /home/christoph/.julia/packages/YaoArrayRegister/dHtyf/src/instruct.jl:379 declares type variable N but does not use it.\n",
      "WARNING: method definition for instruct! at /home/christoph/.julia/packages/YaoArrayRegister/dHtyf/src/instruct.jl:390 declares type variable N but does not use it.\n",
      "WARNING: method definition for instruct! at /home/christoph/.julia/packages/YaoArrayRegister/dHtyf/src/instruct.jl:497 declares type variable N but does not use it.\n",
      "WARNING: method definition for instruct! at /home/christoph/.julia/packages/YaoArrayRegister/dHtyf/src/instruct.jl:497 declares type variable N but does not use it.\n",
      "WARNING: method definition for instruct! at /home/christoph/.julia/packages/YaoArrayRegister/dHtyf/src/instruct.jl:497 declares type variable N but does not use it.\n",
      "WARNING: method definition for instruct! at /home/christoph/.julia/packages/YaoArrayRegister/dHtyf/src/instruct.jl:497 declares type variable N but does not use it.\n",
      "WARNING: method definition for instruct! at /home/christoph/.julia/packages/YaoArrayRegister/dHtyf/src/instruct.jl:497 declares type variable N but does not use it.\n",
      "WARNING: method definition for instruct! at /home/christoph/.julia/packages/YaoArrayRegister/dHtyf/src/instruct.jl:497 declares type variable N but does not use it.\n",
      "WARNING: method definition for instruct! at /home/christoph/.julia/packages/YaoArrayRegister/dHtyf/src/instruct.jl:497 declares type variable N but does not use it.\n",
      "\u001b[36m\u001b[1m[ \u001b[22m\u001b[39m\u001b[36m\u001b[1mInfo: \u001b[22m\u001b[39mPrecompiling YaoBlocks [418bc28f-b43b-5e0b-a6e7-61bbc1a2c1df] (cache misses: wrong dep version loaded (2), incompatible header (6))\n",
      "\u001b[33m\u001b[1m┌ \u001b[22m\u001b[39m\u001b[33m\u001b[1mWarning: \u001b[22m\u001b[39mModule YaoBase with build ID ffffffff-ffff-ffff-0000-04cc1a48d685 is missing from the cache.\n",
      "\u001b[33m\u001b[1m│ \u001b[22m\u001b[39mThis may mean YaoBase [a8f54c17-34bc-5a9d-b050-f522fe3f755f] does not support precompilation but is imported by a module that does.\n",
      "\u001b[33m\u001b[1m└ \u001b[22m\u001b[39m\u001b[90m@ Base loading.jl:2541\u001b[39m\n",
      "\u001b[36m\u001b[1m┌ \u001b[22m\u001b[39m\u001b[36m\u001b[1mInfo: \u001b[22m\u001b[39mSkipping precompilation due to precompilable error. Importing YaoBlocks [418bc28f-b43b-5e0b-a6e7-61bbc1a2c1df].\n",
      "\u001b[36m\u001b[1m└ \u001b[22m\u001b[39m  exception = Error when precompiling module, potentially caused by a __precompile__(false) declaration in the module.\n",
      "WARNING: method definition for RepeatedBlock at /home/christoph/.julia/packages/YaoBlocks/usXGg/src/composite/repeated.jl:33 declares type variable M but does not use it.\n",
      "WARNING: method definition for Subroutine at /home/christoph/.julia/packages/YaoBlocks/usXGg/src/composite/subroutine.jl:16 declares type variable N but does not use it.\n",
      "\u001b[36m\u001b[1m[ \u001b[22m\u001b[39m\u001b[36m\u001b[1mInfo: \u001b[22m\u001b[39mPrecompiling YaoSym [3b27209a-d3d6-11e9-3c0f-41eb92b2cb9d] (cache misses: wrong dep version loaded (2), incompatible header (6))\n",
      "\u001b[33m\u001b[1m┌ \u001b[22m\u001b[39m\u001b[33m\u001b[1mWarning: \u001b[22m\u001b[39mModule YaoBase with build ID ffffffff-ffff-ffff-0000-04cc1a48d685 is missing from the cache.\n",
      "\u001b[33m\u001b[1m│ \u001b[22m\u001b[39mThis may mean YaoBase [a8f54c17-34bc-5a9d-b050-f522fe3f755f] does not support precompilation but is imported by a module that does.\n",
      "\u001b[33m\u001b[1m└ \u001b[22m\u001b[39m\u001b[90m@ Base loading.jl:2541\u001b[39m\n",
      "\u001b[36m\u001b[1m┌ \u001b[22m\u001b[39m\u001b[36m\u001b[1mInfo: \u001b[22m\u001b[39mSkipping precompilation due to precompilable error. Importing YaoSym [3b27209a-d3d6-11e9-3c0f-41eb92b2cb9d].\n",
      "\u001b[36m\u001b[1m└ \u001b[22m\u001b[39m  exception = Error when precompiling module, potentially caused by a __precompile__(false) declaration in the module.\n",
      "\u001b[36m\u001b[1m[ \u001b[22m\u001b[39m\u001b[36m\u001b[1mInfo: \u001b[22m\u001b[39mPrecompiling YaoPlots [32cfe2d9-419e-45f2-8191-2267705d8dbc] (cache misses: wrong dep version loaded (2), incompatible header (6))\n"
     ]
    },
    {
     "name": "stderr",
     "output_type": "stream",
     "text": [
      "\u001b[33m\u001b[1m┌ \u001b[22m\u001b[39m\u001b[33m\u001b[1mWarning: \u001b[22m\u001b[39mModule YaoBlocks with build ID ffffffff-ffff-ffff-0000-04cd86126c0b is missing from the cache.\n",
      "\u001b[33m\u001b[1m│ \u001b[22m\u001b[39mThis may mean YaoBlocks [418bc28f-b43b-5e0b-a6e7-61bbc1a2c1df] does not support precompilation but is imported by a module that does.\n",
      "\u001b[33m\u001b[1m└ \u001b[22m\u001b[39m\u001b[90m@ Base loading.jl:2541\u001b[39m\n",
      "\u001b[36m\u001b[1m┌ \u001b[22m\u001b[39m\u001b[36m\u001b[1mInfo: \u001b[22m\u001b[39mSkipping precompilation due to precompilable error. Importing YaoPlots [32cfe2d9-419e-45f2-8191-2267705d8dbc].\n",
      "\u001b[36m\u001b[1m└ \u001b[22m\u001b[39m  exception = Error when precompiling module, potentially caused by a __precompile__(false) declaration in the module.\n"
     ]
    }
   ],
   "source": [
    "using Yao\n",
    "using YaoPlots\n",
    "using LinearAlgebra\n",
    "using Kronecker"
   ]
  },
  {
   "cell_type": "code",
   "execution_count": 9,
   "id": "6dcbb821",
   "metadata": {},
   "outputs": [
    {
     "data": {
      "text/plain": [
       "is_global_phase_equal (generic function with 2 methods)"
      ]
     },
     "execution_count": 9,
     "metadata": {},
     "output_type": "execute_result"
    }
   ],
   "source": [
    "# Function to check Equalty up to phase\n",
    "function is_global_phase_equal(ψ::Matrix{ComplexF64}, ϕ::Matrix{ComplexF64}; atol=1e-10)\n",
    "    ψ = ψ / norm(ψ)\n",
    "    ϕ = ϕ / norm(ϕ)\n",
    "    inner = dot(conj(ϕ), ψ)\n",
    "    return abs(abs(inner) - 1) < atol\n",
    "end"
   ]
  },
  {
   "cell_type": "code",
   "execution_count": 21,
   "id": "713f33ec",
   "metadata": {},
   "outputs": [
    {
     "data": {
      "text/plain": [
       "4.857364"
      ]
     },
     "execution_count": 21,
     "metadata": {},
     "output_type": "execute_result"
    }
   ],
   "source": [
    "xPhase = 1.503123\n",
    "yPhase = 0.825345 \n",
    "zPhase = 4.857364 "
   ]
  },
  {
   "cell_type": "code",
   "execution_count": 5,
   "id": "4934e780",
   "metadata": {},
   "outputs": [
    {
     "data": {
      "text/plain": [
       "4×1 Matrix{ComplexF64}:\n",
       " 1.0 + 0.0im\n",
       " 0.0 + 0.0im\n",
       " 0.0 + 0.0im\n",
       " 0.0 + 0.0im"
      ]
     },
     "execution_count": 5,
     "metadata": {},
     "output_type": "execute_result"
    }
   ],
   "source": [
    "# just to check endianness\n",
    "state(ArrayReg(bit\"00\"))"
   ]
  },
  {
   "cell_type": "code",
   "execution_count": 4,
   "id": "2a3cbc67",
   "metadata": {
    "scrolled": true
   },
   "outputs": [
    {
     "data": {
      "text/plain": [
       "ArrayReg{2, ComplexF64, Array...}\n",
       "    active qubits: 3/3\n",
       "    nlevel: 2"
      ]
     },
     "execution_count": 4,
     "metadata": {},
     "output_type": "execute_result"
    }
   ],
   "source": [
    "# initialize register \n",
    "register = ArrayReg(bit\"000\")"
   ]
  },
  {
   "cell_type": "code",
   "execution_count": 6,
   "id": "8c540b46",
   "metadata": {},
   "outputs": [
    {
     "data": {
      "text/plain": [
       "ArrayReg{2, ComplexF64, Array...}\n",
       "    active qubits: 3/3\n",
       "    nlevel: 2"
      ]
     },
     "execution_count": 6,
     "metadata": {},
     "output_type": "execute_result"
    }
   ],
   "source": [
    "#prepare bell state\n",
    "bellCirc = chain(3, put(2=>H), control(2, 3=>X))\n",
    "state1 = register |> bellCirc"
   ]
  },
  {
   "cell_type": "code",
   "execution_count": 10,
   "id": "9acd98cb",
   "metadata": {
    "scrolled": true
   },
   "outputs": [
    {
     "data": {
      "text/plain": [
       "8×1 Matrix{ComplexF64}:\n",
       " 0.7071067811865475 + 0.0im\n",
       "                0.0 + 0.0im\n",
       "                0.0 + 0.0im\n",
       "                0.0 + 0.0im\n",
       "                0.0 + 0.0im\n",
       "                0.0 + 0.0im\n",
       " 0.7071067811865475 + 0.0im\n",
       "                0.0 + 0.0im"
      ]
     },
     "execution_count": 10,
     "metadata": {},
     "output_type": "execute_result"
    }
   ],
   "source": [
    "s1 = state(state1)"
   ]
  },
  {
   "cell_type": "code",
   "execution_count": 15,
   "id": "3cde172f",
   "metadata": {},
   "outputs": [
    {
     "data": {
      "text/plain": [
       "8×1 Matrix{ComplexF64}:\n",
       " 0.707 + 0.0im\n",
       "   0.0 + 0.0im\n",
       "   0.0 + 0.0im\n",
       " 0.707 + 0.0im\n",
       "   0.0 + 0.0im\n",
       "   0.0 + 0.0im\n",
       "   0.0 + 0.0im\n",
       "   0.0 + 0.0im"
      ]
     },
     "execution_count": 15,
     "metadata": {},
     "output_type": "execute_result"
    }
   ],
   "source": [
    "s1_alternate = reshape([0.707 + 0.000im, 0.000 + 0.000im, 0.000 + 0.000im, 0.707 + 0.000im, 0.000 + 0.000im, 0.000 + 0.000im, 0.000 + 0.000im, 0.000 + 0.000im], :, 1)"
   ]
  },
  {
   "cell_type": "code",
   "execution_count": 16,
   "id": "d62ef0d5",
   "metadata": {},
   "outputs": [
    {
     "data": {
      "text/plain": [
       "false"
      ]
     },
     "execution_count": 16,
     "metadata": {},
     "output_type": "execute_result"
    }
   ],
   "source": [
    "is_global_phase_equal(s1, s1_alternate)"
   ]
  },
  {
   "cell_type": "code",
   "execution_count": 19,
   "id": "aedecf5f",
   "metadata": {},
   "outputs": [
    {
     "data": {
      "text/plain": [
       "0.499924494298889 + 0.0im"
      ]
     },
     "execution_count": 19,
     "metadata": {},
     "output_type": "execute_result"
    }
   ],
   "source": [
    "x = s1/norm(s1)\n",
    "y = s1_alternate/norm(s1_alternate)\n",
    "inner = dot(conj(s1), s1_alternate)"
   ]
  },
  {
   "cell_type": "code",
   "execution_count": 41,
   "id": "8d5be610",
   "metadata": {},
   "outputs": [
    {
     "data": {
      "text/plain": [
       "ArrayReg{2, ComplexF64, Array...}\n",
       "    active qubits: 3/3\n",
       "    nlevel: 2"
      ]
     },
     "execution_count": 41,
     "metadata": {},
     "output_type": "execute_result"
    }
   ],
   "source": [
    "# Apply randomized rotations \n",
    "#rotCirc = chain(3, put(1=>Rx(xPhase)), put(1=>Ry(yPhase)), put(1=>Rz(zPhase)))\n",
    "rotCirc = chain(3, put(1=>H))\n",
    "state2 = state1 |> rotCirc"
   ]
  },
  {
   "cell_type": "code",
   "execution_count": 42,
   "id": "0c1f0c37",
   "metadata": {},
   "outputs": [
    {
     "data": {
      "text/plain": [
       "8×1 Matrix{ComplexF64}:\n",
       " 0.4999999999999999 + 0.0im\n",
       " 0.4999999999999999 + 0.0im\n",
       "                0.0 + 0.0im\n",
       "                0.0 + 0.0im\n",
       "                0.0 + 0.0im\n",
       "                0.0 + 0.0im\n",
       " 0.4999999999999999 + 0.0im\n",
       " 0.4999999999999999 + 0.0im"
      ]
     },
     "execution_count": 42,
     "metadata": {},
     "output_type": "execute_result"
    }
   ],
   "source": [
    "state(state2)"
   ]
  },
  {
   "cell_type": "code",
   "execution_count": 10,
   "id": "71e5a7b1",
   "metadata": {},
   "outputs": [
    {
     "data": {
      "text/plain": [
       "ArrayReg{2, ComplexF64, Array...}\n",
       "    active qubits: 3/3\n",
       "    nlevel: 2"
      ]
     },
     "execution_count": 10,
     "metadata": {},
     "output_type": "execute_result"
    }
   ],
   "source": [
    "entangleCirc = chain(3, control(1, 2=>X), put(1=>H))\n",
    "state3 = state2 |> entangleCirc"
   ]
  },
  {
   "cell_type": "code",
   "execution_count": 11,
   "id": "a085e7bf",
   "metadata": {},
   "outputs": [
    {
     "data": {
      "text/plain": [
       "8×1 Matrix{ComplexF64}:\n",
       " -0.06988852469142956 + 0.0099499868085135im\n",
       " -0.25730436761243536 - 0.6548366622956676im\n",
       " -0.06988852469142956 + 0.0099499868085135im\n",
       " -0.25730436761243536 - 0.6548366622956676im\n",
       "                  0.0 + 0.0im\n",
       "                  0.0 + 0.0im\n",
       "                  0.0 + 0.0im\n",
       "                  0.0 + 0.0im"
      ]
     },
     "execution_count": 11,
     "metadata": {},
     "output_type": "execute_result"
    }
   ],
   "source": [
    "state(state3)"
   ]
  },
  {
   "cell_type": "code",
   "execution_count": 12,
   "id": "82e72b04",
   "metadata": {
    "scrolled": true
   },
   "outputs": [
    {
     "data": {
      "text/plain": [
       "8×8 Kronecker.KroneckerProduct{Int64, Kronecker.KroneckerProduct{Int64, Matrix{Int64}, Matrix{Int64}}, Matrix{Int64}}:\n",
       " 0  0  0  0  0  0  0  0\n",
       " 0  0  0  0  0  0  0  0\n",
       " 0  0  1  0  0  0  0  0\n",
       " 0  0  0  1  0  0  0  0\n",
       " 0  0  0  0  0  0  0  0\n",
       " 0  0  0  0  0  0  0  0\n",
       " 0  0  0  0  0  0  1  0\n",
       " 0  0  0  0  0  0  0  1"
      ]
     },
     "execution_count": 12,
     "metadata": {},
     "output_type": "execute_result"
    }
   ],
   "source": [
    "ket0 = [1, 0]\n",
    "ket1 = [0, 1]\n",
    "\n",
    "Id = [[1 0]; [0 1]]\n",
    "\n",
    "P0 = ket0 * ket0'\n",
    "P1 = ket1 * ket1'\n",
    "\n",
    "expandedP0one = P0 ⊗ Id ⊗ Id\n",
    "expandedP1one = P1 ⊗ Id ⊗ Id \n",
    "\n",
    "expandedP0two = Id ⊗ P0 ⊗ Id\n",
    "expandedP1two = Id ⊗ P1 ⊗ Id "
   ]
  },
  {
   "cell_type": "code",
   "execution_count": 13,
   "id": "d1fa10ca",
   "metadata": {},
   "outputs": [
    {
     "data": {
      "text/plain": [
       "8×8 Kronecker.KroneckerProduct{Int64, Kronecker.KroneckerProduct{Int64, Matrix{Int64}, Matrix{Int64}}, Matrix{Int64}}:\n",
       " 0  0  0  0  0  0  0  0\n",
       " 0  0  0  0  0  0  0  0\n",
       " 0  0  1  0  0  0  0  0\n",
       " 0  0  0  1  0  0  0  0\n",
       " 0  0  0  0  0  0  0  0\n",
       " 0  0  0  0  0  0  0  0\n",
       " 0  0  0  0  0  0  1  0\n",
       " 0  0  0  0  0  0  0  1"
      ]
     },
     "execution_count": 13,
     "metadata": {},
     "output_type": "execute_result"
    }
   ],
   "source": [
    "expandedP1two"
   ]
  },
  {
   "cell_type": "code",
   "execution_count": 14,
   "id": "89739ec0",
   "metadata": {},
   "outputs": [
    {
     "data": {
      "text/plain": [
       "8×1 Matrix{ComplexF64}:\n",
       "                  0.0 + 0.0im\n",
       "                  0.0 + 0.0im\n",
       " -0.06988852469142956 + 0.0099499868085135im\n",
       " -0.25730436761243536 - 0.6548366622956676im\n",
       "                  0.0 + 0.0im\n",
       "                  0.0 + 0.0im\n",
       "                  0.0 + 0.0im\n",
       "                  0.0 + 0.0im"
      ]
     },
     "execution_count": 14,
     "metadata": {},
     "output_type": "execute_result"
    }
   ],
   "source": [
    "ψ = state(state3)\n",
    "ψ_1 = expandedP0one * ψ\n",
    "ψ_2 = expandedP1one * ψ\n",
    "\n",
    "ψ_3 = expandedP0two * ψ\n",
    "ψ_4 = expandedP1two * ψ"
   ]
  }
 ],
 "metadata": {
  "kernelspec": {
   "display_name": "Julia 1.11.5",
   "language": "julia",
   "name": "julia-1.11"
  },
  "language_info": {
   "file_extension": ".jl",
   "mimetype": "application/julia",
   "name": "julia",
   "version": "1.11.5"
  },
  "latex_envs": {
   "LaTeX_envs_menu_present": true,
   "autoclose": false,
   "autocomplete": true,
   "bibliofile": "biblio.bib",
   "cite_by": "apalike",
   "current_citInitial": 1,
   "eqLabelWithNumbers": true,
   "eqNumInitial": 1,
   "hotkeys": {
    "equation": "Ctrl-E",
    "itemize": "Ctrl-I"
   },
   "labels_anchors": false,
   "latex_user_defs": false,
   "report_style_numbering": false,
   "user_envs_cfg": true
  }
 },
 "nbformat": 4,
 "nbformat_minor": 5
}
