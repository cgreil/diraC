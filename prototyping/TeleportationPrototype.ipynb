{
 "cells": [
  {
   "cell_type": "code",
   "execution_count": 1,
   "id": "0e87f4b3",
   "metadata": {},
   "outputs": [],
   "source": [
    "using Yao\n",
    "using YaoPlots\n",
    "using LinearAlgebra\n",
    "using Kronecker"
   ]
  },
  {
   "cell_type": "code",
   "execution_count": 2,
   "id": "713f33ec",
   "metadata": {},
   "outputs": [
    {
     "data": {
      "text/plain": [
       "4.857364"
      ]
     },
     "execution_count": 2,
     "metadata": {},
     "output_type": "execute_result"
    }
   ],
   "source": [
    "xPhase = 1.503123\n",
    "yPhase = 0.825345 \n",
    "zPhase = 4.857364 "
   ]
  },
  {
   "cell_type": "code",
   "execution_count": 44,
   "id": "4934e780",
   "metadata": {},
   "outputs": [
    {
     "data": {
      "text/plain": [
       "4×1 Matrix{ComplexF64}:\n",
       " 1.0 + 0.0im\n",
       " 0.0 + 0.0im\n",
       " 0.0 + 0.0im\n",
       " 0.0 + 0.0im"
      ]
     },
     "execution_count": 44,
     "metadata": {},
     "output_type": "execute_result"
    }
   ],
   "source": [
    "state(ArrayReg(bit\"00\"))"
   ]
  },
  {
   "cell_type": "code",
   "execution_count": 3,
   "id": "2a3cbc67",
   "metadata": {},
   "outputs": [
    {
     "data": {
      "text/plain": [
       "ArrayReg{2, ComplexF64, Array...}\n",
       "    active qubits: 3/3\n",
       "    nlevel: 2"
      ]
     },
     "execution_count": 3,
     "metadata": {},
     "output_type": "execute_result"
    }
   ],
   "source": [
    "register = ArrayReg(bit\"000\")"
   ]
  },
  {
   "cell_type": "code",
   "execution_count": 4,
   "id": "8c540b46",
   "metadata": {},
   "outputs": [
    {
     "data": {
      "text/plain": [
       "ArrayReg{2, ComplexF64, Array...}\n",
       "    active qubits: 3/3\n",
       "    nlevel: 2"
      ]
     },
     "execution_count": 4,
     "metadata": {},
     "output_type": "execute_result"
    }
   ],
   "source": [
    "#prepare bell state\n",
    "bellCirc = chain(3, put(2=>H), control(1, 2=>X))\n",
    "state1 = register |> bellCirc"
   ]
  },
  {
   "cell_type": "code",
   "execution_count": 6,
   "id": "9acd98cb",
   "metadata": {},
   "outputs": [
    {
     "data": {
      "text/plain": [
       "8×1 Matrix{ComplexF64}:\n",
       " 0.7071067811865475 + 0.0im\n",
       "                0.0 + 0.0im\n",
       " 0.7071067811865475 + 0.0im\n",
       "                0.0 + 0.0im\n",
       "                0.0 + 0.0im\n",
       "                0.0 + 0.0im\n",
       "                0.0 + 0.0im\n",
       "                0.0 + 0.0im"
      ]
     },
     "execution_count": 6,
     "metadata": {},
     "output_type": "execute_result"
    }
   ],
   "source": [
    "state(state1)"
   ]
  },
  {
   "cell_type": "code",
   "execution_count": 7,
   "id": "8d5be610",
   "metadata": {},
   "outputs": [
    {
     "data": {
      "text/plain": [
       "ArrayReg{2, ComplexF64, Array...}\n",
       "    active qubits: 3/3\n",
       "    nlevel: 2"
      ]
     },
     "execution_count": 7,
     "metadata": {},
     "output_type": "execute_result"
    }
   ],
   "source": [
    "# Apply randomized rotations \n",
    "rotCirc = chain(3, put(1=>Rx(xPhase)), put(1=>Ry(yPhase)), put(1=>Rz(zPhase)))\n",
    "state2 = state1 |> rotCirc"
   ]
  },
  {
   "cell_type": "code",
   "execution_count": 8,
   "id": "0c1f0c37",
   "metadata": {},
   "outputs": [
    {
     "data": {
      "text/plain": [
       "8×1 Matrix{ComplexF64}:\n",
       " -0.23136031290410267 - 0.45600374133381527im\n",
       "  0.13252301343123604 + 0.4700751476238484im\n",
       " -0.23136031290410267 - 0.45600374133381527im\n",
       "  0.13252301343123604 + 0.4700751476238484im\n",
       "                  0.0 + 0.0im\n",
       "                  0.0 + 0.0im\n",
       "                  0.0 + 0.0im\n",
       "                  0.0 + 0.0im"
      ]
     },
     "execution_count": 8,
     "metadata": {},
     "output_type": "execute_result"
    }
   ],
   "source": [
    "state(state2)"
   ]
  },
  {
   "cell_type": "code",
   "execution_count": 9,
   "id": "71e5a7b1",
   "metadata": {},
   "outputs": [
    {
     "data": {
      "text/plain": [
       "ArrayReg{2, ComplexF64, Array...}\n",
       "    active qubits: 3/3\n",
       "    nlevel: 2"
      ]
     },
     "execution_count": 9,
     "metadata": {},
     "output_type": "execute_result"
    }
   ],
   "source": [
    "entangleCirc = chain(3, control(1, 2=>X), put(1=>H))\n",
    "state3 = state2 |> entangleCirc"
   ]
  },
  {
   "cell_type": "code",
   "execution_count": 10,
   "id": "a085e7bf",
   "metadata": {},
   "outputs": [
    {
     "data": {
      "text/plain": [
       "8×1 Matrix{ComplexF64}:\n",
       " -0.06988852469142956 + 0.0099499868085135im\n",
       " -0.25730436761243536 - 0.6548366622956676im\n",
       " -0.06988852469142956 + 0.0099499868085135im\n",
       " -0.25730436761243536 - 0.6548366622956676im\n",
       "                  0.0 + 0.0im\n",
       "                  0.0 + 0.0im\n",
       "                  0.0 + 0.0im\n",
       "                  0.0 + 0.0im"
      ]
     },
     "execution_count": 10,
     "metadata": {},
     "output_type": "execute_result"
    }
   ],
   "source": [
    "state(state3)"
   ]
  },
  {
   "cell_type": "code",
   "execution_count": 14,
   "id": "82e72b04",
   "metadata": {
    "scrolled": true
   },
   "outputs": [
    {
     "data": {
      "text/plain": [
       "8×8 Kronecker.KroneckerProduct{Int64, Kronecker.KroneckerProduct{Int64, Matrix{Int64}, Matrix{Int64}}, Matrix{Int64}}:\n",
       " 0  0  0  0  0  0  0  0\n",
       " 0  0  0  0  0  0  0  0\n",
       " 0  0  1  0  0  0  0  0\n",
       " 0  0  0  1  0  0  0  0\n",
       " 0  0  0  0  0  0  0  0\n",
       " 0  0  0  0  0  0  0  0\n",
       " 0  0  0  0  0  0  1  0\n",
       " 0  0  0  0  0  0  0  1"
      ]
     },
     "execution_count": 14,
     "metadata": {},
     "output_type": "execute_result"
    }
   ],
   "source": [
    "ket0 = [1, 0]\n",
    "ket1 = [0, 1]\n",
    "\n",
    "Id = [[1 0]; [0 1]]\n",
    "\n",
    "P0 = ket0 * ket0'\n",
    "P1 = ket1 * ket1'\n",
    "\n",
    "expandedP0one = P0 ⊗ Id ⊗ Id\n",
    "expandedP1one = P1 ⊗ Id ⊗ Id \n",
    "\n",
    "expandedP0two = Id ⊗ P0 ⊗ Id\n",
    "expandedP1two = Id ⊗ P1 ⊗ Id "
   ]
  },
  {
   "cell_type": "code",
   "execution_count": 39,
   "id": "d1fa10ca",
   "metadata": {},
   "outputs": [
    {
     "data": {
      "text/plain": [
       "8×8 Kronecker.KroneckerProduct{Int64, Kronecker.KroneckerProduct{Int64, Matrix{Int64}, Matrix{Int64}}, Matrix{Int64}}:\n",
       " 0  0  0  0  0  0  0  0\n",
       " 0  0  0  0  0  0  0  0\n",
       " 0  0  1  0  0  0  0  0\n",
       " 0  0  0  1  0  0  0  0\n",
       " 0  0  0  0  0  0  0  0\n",
       " 0  0  0  0  0  0  0  0\n",
       " 0  0  0  0  0  0  1  0\n",
       " 0  0  0  0  0  0  0  1"
      ]
     },
     "execution_count": 39,
     "metadata": {},
     "output_type": "execute_result"
    }
   ],
   "source": [
    "expandedP1two"
   ]
  },
  {
   "cell_type": "code",
   "execution_count": 28,
   "id": "89739ec0",
   "metadata": {},
   "outputs": [
    {
     "data": {
      "text/plain": [
       "8×1 Matrix{ComplexF64}:\n",
       "                  0.0 + 0.0im\n",
       "                  0.0 + 0.0im\n",
       " -0.06988852469142956 + 0.0099499868085135im\n",
       " -0.25730436761243536 - 0.6548366622956676im\n",
       "                  0.0 + 0.0im\n",
       "                  0.0 + 0.0im\n",
       "                  0.0 + 0.0im\n",
       "                  0.0 + 0.0im"
      ]
     },
     "execution_count": 28,
     "metadata": {},
     "output_type": "execute_result"
    }
   ],
   "source": [
    "ψ = state(state3)\n",
    "ψ_1 = expandedP0one * ψ\n",
    "ψ_2 = expandedP1one * ψ\n",
    "\n",
    "ψ_3 = expandedP0two * ψ\n",
    "ψ_4 = expandedP1two * ψ"
   ]
  },
  {
   "cell_type": "code",
   "execution_count": 35,
   "id": "2cca0ece",
   "metadata": {
    "scrolled": true
   },
   "outputs": [
    {
     "data": {
      "text/plain": [
       "1×1 Matrix{ComplexF64}:\n",
       " 0.0 + 0.0im"
      ]
     },
     "execution_count": 35,
     "metadata": {},
     "output_type": "execute_result"
    }
   ],
   "source": [
    "ψ_3' * ψ_4"
   ]
  },
  {
   "cell_type": "code",
   "execution_count": 37,
   "id": "a56d9167",
   "metadata": {},
   "outputs": [
    {
     "data": {
      "text/plain": [
       "1×1 Matrix{ComplexF64}:\n",
       " 0.0 + 0.0im"
      ]
     },
     "execution_count": 37,
     "metadata": {},
     "output_type": "execute_result"
    }
   ],
   "source": [
    "ψ_1' * ψ_2"
   ]
  },
  {
   "cell_type": "code",
   "execution_count": 48,
   "id": "7d14382d",
   "metadata": {},
   "outputs": [
    {
     "data": {
      "text/plain": [
       "8×1 Matrix{ComplexF64}:\n",
       " -0.23136031290410264 + 0.47007514762384833im\n",
       " -0.13252301343123601 - 0.4560037413338152im\n",
       " -0.23136031290410264 + 0.47007514762384833im\n",
       " -0.13252301343123601 - 0.4560037413338152im\n",
       "                  0.0 + 0.0im\n",
       "                  0.0 + 0.0im\n",
       "                  0.0 + 0.0im\n",
       "                  0.0 + 0.0im"
      ]
     },
     "execution_count": 48,
     "metadata": {},
     "output_type": "execute_result"
    }
   ],
   "source": [
    "state(state3)"
   ]
  }
 ],
 "metadata": {
  "kernelspec": {
   "display_name": "Julia 1.11.5",
   "language": "julia",
   "name": "julia-1.11"
  },
  "language_info": {
   "file_extension": ".jl",
   "mimetype": "application/julia",
   "name": "julia",
   "version": "1.11.5"
  },
  "latex_envs": {
   "LaTeX_envs_menu_present": true,
   "autoclose": false,
   "autocomplete": true,
   "bibliofile": "biblio.bib",
   "cite_by": "apalike",
   "current_citInitial": 1,
   "eqLabelWithNumbers": true,
   "eqNumInitial": 1,
   "hotkeys": {
    "equation": "Ctrl-E",
    "itemize": "Ctrl-I"
   },
   "labels_anchors": false,
   "latex_user_defs": false,
   "report_style_numbering": false,
   "user_envs_cfg": true
  }
 },
 "nbformat": 4,
 "nbformat_minor": 5
}
