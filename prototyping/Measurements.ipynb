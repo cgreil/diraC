{
 "cells": [
  {
   "cell_type": "code",
   "execution_count": 1,
   "id": "7afd9d81",
   "metadata": {},
   "outputs": [],
   "source": [
    "using LinearAlgebra\n",
    "using Yao\n",
    "using YaoPlots\n",
    "using Kronecker"
   ]
  },
  {
   "cell_type": "code",
   "execution_count": 2,
   "id": "3b1d6145",
   "metadata": {},
   "outputs": [
    {
     "data": {
      "text/plain": [
       "2×1 Matrix{ComplexF64}:\n",
       " 1.0 + 0.0im\n",
       " 0.0 + 0.0im"
      ]
     },
     "execution_count": 2,
     "metadata": {},
     "output_type": "execute_result"
    }
   ],
   "source": [
    "trivialReg = ArrayReg(bit\"0\")\n",
    "state(trivialReg)"
   ]
  },
  {
   "cell_type": "code",
   "execution_count": 3,
   "id": "b1f4ff6b",
   "metadata": {},
   "outputs": [
    {
     "data": {
      "text/plain": [
       "1-element Vector{DitStr{2, 1, Int64}}:\n",
       " 0 ₍₂₎"
      ]
     },
     "execution_count": 3,
     "metadata": {},
     "output_type": "execute_result"
    }
   ],
   "source": [
    "measure(trivialReg)"
   ]
  },
  {
   "cell_type": "code",
   "execution_count": 4,
   "id": "0fa37f1d",
   "metadata": {},
   "outputs": [
    {
     "data": {
      "text/plain": [
       "2×1 Matrix{ComplexF64}:\n",
       " 1.0 + 0.0im\n",
       " 0.0 + 0.0im"
      ]
     },
     "execution_count": 4,
     "metadata": {},
     "output_type": "execute_result"
    }
   ],
   "source": [
    "state(trivialReg)"
   ]
  },
  {
   "cell_type": "code",
   "execution_count": 5,
   "id": "7365890b",
   "metadata": {},
   "outputs": [
    {
     "data": {
      "text/plain": [
       "\u001b[36mnqubits: 2\u001b[39m\n",
       "\u001b[34m\u001b[1mchain\u001b[22m\u001b[39m\n",
       "├─ \u001b[36m\u001b[1mput on (\u001b[22m\u001b[39m\u001b[36m\u001b[1m1\u001b[22m\u001b[39m\u001b[36m\u001b[1m)\u001b[22m\u001b[39m\n",
       "│  └─ H\n",
       "└─ \u001b[36m\u001b[1mput on (\u001b[22m\u001b[39m\u001b[36m\u001b[1m2\u001b[22m\u001b[39m\u001b[36m\u001b[1m)\u001b[22m\u001b[39m\n",
       "   └─ H\n"
      ]
     },
     "execution_count": 5,
     "metadata": {},
     "output_type": "execute_result"
    }
   ],
   "source": [
    "circuit = chain(2, put(1=>H), put(2=>H))"
   ]
  },
  {
   "cell_type": "code",
   "execution_count": 6,
   "id": "a23307b6",
   "metadata": {},
   "outputs": [
    {
     "data": {
      "image/svg+xml": [
       "<?xml version=\"1.0\" encoding=\"UTF-8\"?>\n",
       "<svg xmlns=\"http://www.w3.org/2000/svg\" xmlns:xlink=\"http://www.w3.org/1999/xlink\" width=\"102\" height=\"90\" viewBox=\"0 0 102 90\">\n",
       "<defs>\n",
       "<g>\n",
       "<g id=\"glyph-567570-0-0\">\n",
       "<path d=\"M 1.578125 -11.671875 L 3.15625 -11.671875 L 3.15625 -6.890625 L 8.890625 -6.890625 L 8.890625 -11.671875 L 10.46875 -11.671875 L 10.46875 0 L 8.890625 0 L 8.890625 -5.5625 L 3.15625 -5.5625 L 3.15625 0 L 1.578125 0 Z M 1.578125 -11.671875 \"/>\n",
       "</g>\n",
       "</g>\n",
       "</defs>\n",
       "<path fill=\"none\" stroke-width=\"1\" stroke-linecap=\"butt\" stroke-linejoin=\"miter\" stroke=\"rgb(0%, 0%, 0%)\" stroke-opacity=\"1\" stroke-miterlimit=\"10\" d=\"M 39 34.5 L 39 10.5 L 63 10.5 L 63 34.5 Z M 39 34.5 \"/>\n",
       "<g fill=\"rgb(0%, 0%, 0%)\" fill-opacity=\"1\">\n",
       "<use xlink:href=\"#glyph-567570-0-0\" x=\"44.984375\" y=\"28.332031\"/>\n",
       "</g>\n",
       "<path fill=\"none\" stroke-width=\"1\" stroke-linecap=\"butt\" stroke-linejoin=\"miter\" stroke=\"rgb(0%, 0%, 0%)\" stroke-opacity=\"1\" stroke-miterlimit=\"10\" d=\"M 25.5 22.5 L 39 22.5 \"/>\n",
       "<path fill=\"none\" stroke-width=\"1\" stroke-linecap=\"butt\" stroke-linejoin=\"miter\" stroke=\"rgb(0%, 0%, 0%)\" stroke-opacity=\"1\" stroke-miterlimit=\"10\" d=\"M 63 22.5 L 76.5 22.5 \"/>\n",
       "<path fill=\"none\" stroke-width=\"1\" stroke-linecap=\"butt\" stroke-linejoin=\"miter\" stroke=\"rgb(0%, 0%, 0%)\" stroke-opacity=\"1\" stroke-miterlimit=\"10\" d=\"M 39 79.5 L 39 55.5 L 63 55.5 L 63 79.5 Z M 39 79.5 \"/>\n",
       "<g fill=\"rgb(0%, 0%, 0%)\" fill-opacity=\"1\">\n",
       "<use xlink:href=\"#glyph-567570-0-0\" x=\"44.984375\" y=\"73.332031\"/>\n",
       "</g>\n",
       "<path fill=\"none\" stroke-width=\"1\" stroke-linecap=\"butt\" stroke-linejoin=\"miter\" stroke=\"rgb(0%, 0%, 0%)\" stroke-opacity=\"1\" stroke-miterlimit=\"10\" d=\"M 25.5 67.5 L 39 67.5 \"/>\n",
       "<path fill=\"none\" stroke-width=\"1\" stroke-linecap=\"butt\" stroke-linejoin=\"miter\" stroke=\"rgb(0%, 0%, 0%)\" stroke-opacity=\"1\" stroke-miterlimit=\"10\" d=\"M 63 67.5 L 76.5 67.5 \"/>\n",
       "<path fill=\"none\" stroke-width=\"1\" stroke-linecap=\"butt\" stroke-linejoin=\"miter\" stroke=\"rgb(0%, 0%, 0%)\" stroke-opacity=\"1\" stroke-miterlimit=\"10\" d=\"M 76.5 22.5 L 76.5 22.5 \"/>\n",
       "<path fill=\"none\" stroke-width=\"1\" stroke-linecap=\"butt\" stroke-linejoin=\"miter\" stroke=\"rgb(0%, 0%, 0%)\" stroke-opacity=\"1\" stroke-miterlimit=\"10\" d=\"M 76.5 67.5 L 76.5 67.5 \"/>\n",
       "</svg>\n"
      ],
      "text/plain": []
     },
     "execution_count": 6,
     "metadata": {},
     "output_type": "execute_result"
    }
   ],
   "source": [
    "plot(circuit)"
   ]
  },
  {
   "cell_type": "code",
   "execution_count": 7,
   "id": "9774d8a2",
   "metadata": {
    "scrolled": true
   },
   "outputs": [
    {
     "data": {
      "text/plain": [
       "ArrayReg{2, ComplexF64, Array...}\n",
       "    active qubits: 2/2\n",
       "    nlevel: 2"
      ]
     },
     "execution_count": 7,
     "metadata": {},
     "output_type": "execute_result"
    }
   ],
   "source": [
    "register = ArrayReg(bit\"00\")"
   ]
  },
  {
   "cell_type": "code",
   "execution_count": 8,
   "id": "b64babae",
   "metadata": {
    "scrolled": true
   },
   "outputs": [
    {
     "data": {
      "text/plain": [
       "ArrayReg{2, ComplexF64, Array...}\n",
       "    active qubits: 2/2\n",
       "    nlevel: 2"
      ]
     },
     "execution_count": 8,
     "metadata": {},
     "output_type": "execute_result"
    }
   ],
   "source": [
    "register |> circuit"
   ]
  },
  {
   "cell_type": "code",
   "execution_count": 9,
   "id": "43162d3f",
   "metadata": {
    "scrolled": true
   },
   "outputs": [
    {
     "data": {
      "text/plain": [
       "4×1 Matrix{ComplexF64}:\n",
       " 0.4999999999999999 + 0.0im\n",
       " 0.4999999999999999 + 0.0im\n",
       " 0.4999999999999999 + 0.0im\n",
       " 0.4999999999999999 + 0.0im"
      ]
     },
     "execution_count": 9,
     "metadata": {},
     "output_type": "execute_result"
    }
   ],
   "source": [
    "state(register)"
   ]
  },
  {
   "cell_type": "code",
   "execution_count": 10,
   "id": "57598185",
   "metadata": {},
   "outputs": [
    {
     "data": {
      "text/plain": [
       "0 ₍₂₎"
      ]
     },
     "execution_count": 10,
     "metadata": {},
     "output_type": "execute_result"
    }
   ],
   "source": [
    "measure!(register, 1)"
   ]
  },
  {
   "cell_type": "code",
   "execution_count": 12,
   "id": "ef81c061",
   "metadata": {
    "scrolled": true
   },
   "outputs": [
    {
     "data": {
      "text/plain": [
       "4×1 Matrix{ComplexF64}:\n",
       " 0.7071067811865476 + 0.0im\n",
       "                0.0 + 0.0im\n",
       " 0.7071067811865476 + 0.0im\n",
       "                0.0 + 0.0im"
      ]
     },
     "execution_count": 12,
     "metadata": {},
     "output_type": "execute_result"
    }
   ],
   "source": [
    "vec = state(register)"
   ]
  },
  {
   "cell_type": "code",
   "execution_count": 16,
   "id": "615a5653",
   "metadata": {
    "scrolled": true
   },
   "outputs": [
    {
     "data": {
      "text/plain": [
       "1×1 Matrix{ComplexF64}:\n",
       " 1.0 + 0.0im"
      ]
     },
     "execution_count": 16,
     "metadata": {},
     "output_type": "execute_result"
    }
   ],
   "source": [
    "sqrt(vec' * vec)"
   ]
  },
  {
   "cell_type": "code",
   "execution_count": 22,
   "id": "44877c9c",
   "metadata": {
    "scrolled": true
   },
   "outputs": [
    {
     "data": {
      "text/plain": [
       "4-element Vector{ComplexF64}:\n",
       "                0.0 + 0.0im\n",
       "                0.0 + 0.0im\n",
       " 0.7071067811865476 + 0.0im\n",
       " 0.7071067811865476 + 0.0im"
      ]
     },
     "execution_count": 22,
     "metadata": {},
     "output_type": "execute_result"
    }
   ],
   "source": [
    "vec2 = [0.0 + 0.0im; 0.0 + 0.0im; 0.7071067811865476 + 0.0im; 0.7071067811865476 + 0.0im]"
   ]
  },
  {
   "cell_type": "code",
   "execution_count": 24,
   "id": "cd47504d",
   "metadata": {},
   "outputs": [
    {
     "data": {
      "text/plain": [
       "1×1 adjoint(::Vector{ComplexF64}) with eltype ComplexF64:\n",
       " 0.5000000000000001 - 0.0im"
      ]
     },
     "execution_count": 24,
     "metadata": {},
     "output_type": "execute_result"
    }
   ],
   "source": [
    "vec2' * vec"
   ]
  },
  {
   "cell_type": "code",
   "execution_count": 31,
   "id": "7bae62b1",
   "metadata": {},
   "outputs": [
    {
     "name": "stdout",
     "output_type": "stream",
     "text": [
      "0.5000000000000001 + 0.0im0.5000000000000001false\n"
     ]
    }
   ],
   "source": [
    "function are_statevectors_equivalent(psi, phi)\n",
    "    \n",
    "    # Compute inner product\n",
    "    inner_product = dot(phi, psi)  # Equivalent to <phi|psi>\n",
    "    print(inner_product)\n",
    "    \n",
    "    # Check absolute value\n",
    "    print(abs(inner_product))\n",
    "    return abs(inner_product) ≈ 1.0 \n",
    "end\n",
    "\n",
    "\n",
    "println(are_statevectors_equivalent(vec, vec2))  # Should return true\n"
   ]
  }
 ],
 "metadata": {
  "kernelspec": {
   "display_name": "Julia 1.11.3",
   "language": "julia",
   "name": "julia-1.11"
  },
  "language_info": {
   "file_extension": ".jl",
   "mimetype": "application/julia",
   "name": "julia",
   "version": "1.11.3"
  },
  "latex_envs": {
   "LaTeX_envs_menu_present": true,
   "autoclose": false,
   "autocomplete": true,
   "bibliofile": "biblio.bib",
   "cite_by": "apalike",
   "current_citInitial": 1,
   "eqLabelWithNumbers": true,
   "eqNumInitial": 1,
   "hotkeys": {
    "equation": "Ctrl-E",
    "itemize": "Ctrl-I"
   },
   "labels_anchors": false,
   "latex_user_defs": false,
   "report_style_numbering": false,
   "user_envs_cfg": true
  }
 },
 "nbformat": 4,
 "nbformat_minor": 5
}
