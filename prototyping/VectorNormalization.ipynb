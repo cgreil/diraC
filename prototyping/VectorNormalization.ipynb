{
 "cells": [
  {
   "cell_type": "code",
   "execution_count": 4,
   "id": "36e67176",
   "metadata": {},
   "outputs": [
    {
     "data": {
      "text/plain": [
       "8-element Vector{ComplexF64}:\n",
       " -2.0694227979047026 + 0.6025465392036069im\n",
       "  2.0694227979047026 - 2.0694227979047026im\n",
       "  2.0694227979047026 - 2.0694227979047026im\n",
       " -2.0694227979047026 + 0.6025465392036069im\n",
       " -2.0694227979047026 + 0.6025465392036069im\n",
       " -2.0694227979047026 + 2.0694227979047026im\n",
       " -2.0694227979047026 + 2.0694227979047026im\n",
       " -2.0694227979047026 + 0.6025465392036069im"
      ]
     },
     "execution_count": 4,
     "metadata": {},
     "output_type": "execute_result"
    }
   ],
   "source": [
    "vec = [-2.0694227979047026 + 0.6025465392036069im;\n",
    "      2.0694227979047026 + -2.0694227979047026im; \n",
    "    2.0694227979047026 + -2.0694227979047026im;\n",
    "    -2.0694227979047026 + 0.6025465392036069im;\n",
    "    -2.0694227979047026 + 0.6025465392036069im;\n",
    "    -2.0694227979047026 + 2.0694227979047026im;\n",
    "    -2.0694227979047026 + 2.0694227979047026im;\n",
    "    -2.0694227979047026 + 0.6025465392036069im]\n"
   ]
  },
  {
   "cell_type": "code",
   "execution_count": 5,
   "id": "301fb271",
   "metadata": {},
   "outputs": [
    {
     "data": {
      "text/plain": [
       "52.84237792547771 + 0.0im"
      ]
     },
     "execution_count": 5,
     "metadata": {},
     "output_type": "execute_result"
    }
   ],
   "source": [
    "vec' * vec"
   ]
  }
 ],
 "metadata": {
  "kernelspec": {
   "display_name": "Julia 1.11.5",
   "language": "julia",
   "name": "julia-1.11"
  },
  "language_info": {
   "file_extension": ".jl",
   "mimetype": "application/julia",
   "name": "julia",
   "version": "1.11.5"
  },
  "latex_envs": {
   "LaTeX_envs_menu_present": true,
   "autoclose": false,
   "autocomplete": true,
   "bibliofile": "biblio.bib",
   "cite_by": "apalike",
   "current_citInitial": 1,
   "eqLabelWithNumbers": true,
   "eqNumInitial": 1,
   "hotkeys": {
    "equation": "Ctrl-E",
    "itemize": "Ctrl-I"
   },
   "labels_anchors": false,
   "latex_user_defs": false,
   "report_style_numbering": false,
   "user_envs_cfg": true
  }
 },
 "nbformat": 4,
 "nbformat_minor": 5
}
