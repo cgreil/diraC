{
 "cells": [
  {
   "cell_type": "code",
   "execution_count": 7,
   "id": "b21b64cb",
   "metadata": {},
   "outputs": [
    {
     "name": "stdout",
     "output_type": "stream",
     "text": [
      "Statevector when Hadamard is applied to qubit 0:\n",
      "Statevector([0.70710678+0.j, 0.70710678+0.j, 0.        +0.j,\n",
      "             0.        +0.j],\n",
      "            dims=(2, 2))\n",
      "\n",
      "Statevector when Hadamard is applied to qubit 1:\n",
      "Statevector([0.70710678+0.j, 0.        +0.j, 0.70710678+0.j,\n",
      "             0.        +0.j],\n",
      "            dims=(2, 2))\n"
     ]
    },
    {
     "data": {
      "text/latex": [
       "$$\n",
       "|ψ₁⟩ = \n",
       "\\begin{bmatrix}\n",
       "\\frac{\\sqrt{2}}{2} & 0 & \\frac{\\sqrt{2}}{2} & 0  \\\\\n",
       " \\end{bmatrix}\n",
       "$$"
      ],
      "text/plain": [
       "<IPython.core.display.Latex object>"
      ]
     },
     "execution_count": 7,
     "metadata": {},
     "output_type": "execute_result"
    }
   ],
   "source": [
    "from qiskit import QuantumCircuit, Aer, transpile\n",
    "from qiskit.providers.aer import AerSimulator\n",
    "from qiskit.visualization import array_to_latex\n",
    "\n",
    "# Function to compute statevector for a given circuit\n",
    "def get_statevector(qc):\n",
    "    simulator = AerSimulator()\n",
    "    qc.save_statevector()\n",
    "    compiled_circuit = transpile(qc, simulator)\n",
    "    result = simulator.run(compiled_circuit).result()\n",
    "    return result.get_statevector()\n",
    "\n",
    "# Circuit 1: Hadamard on first qubit (qubit 0)\n",
    "qc1 = QuantumCircuit(2)\n",
    "qc1.h(0)  # Apply Hadamard to qubit 0\n",
    "statevector1 = get_statevector(qc1)\n",
    "\n",
    "# Circuit 2: Hadamard on second qubit (qubit 1)\n",
    "qc2 = QuantumCircuit(2)\n",
    "qc2.h(1)  # Apply Hadamard to qubit 1\n",
    "statevector2 = get_statevector(qc2)\n",
    "\n",
    "# Print results\n",
    "print(\"Statevector when Hadamard is applied to qubit 0:\")\n",
    "print(statevector1)\n",
    "array_to_latex(statevector1, prefix=\"|ψ₀⟩ = \")\n",
    "\n",
    "print(\"\\nStatevector when Hadamard is applied to qubit 1:\")\n",
    "print(statevector2)\n",
    "array_to_latex(statevector2, prefix=\"|ψ₁⟩ = \")\n"
   ]
  }
 ],
 "metadata": {
  "kernelspec": {
   "display_name": "Python 3 (ipykernel)",
   "language": "python",
   "name": "python3"
  },
  "language_info": {
   "codemirror_mode": {
    "name": "ipython",
    "version": 3
   },
   "file_extension": ".py",
   "mimetype": "text/x-python",
   "name": "python",
   "nbconvert_exporter": "python",
   "pygments_lexer": "ipython3",
   "version": "3.10.12"
  },
  "latex_envs": {
   "LaTeX_envs_menu_present": true,
   "autoclose": false,
   "autocomplete": true,
   "bibliofile": "biblio.bib",
   "cite_by": "apalike",
   "current_citInitial": 1,
   "eqLabelWithNumbers": true,
   "eqNumInitial": 1,
   "hotkeys": {
    "equation": "Ctrl-E",
    "itemize": "Ctrl-I"
   },
   "labels_anchors": false,
   "latex_user_defs": false,
   "report_style_numbering": false,
   "user_envs_cfg": true
  }
 },
 "nbformat": 4,
 "nbformat_minor": 5
}
