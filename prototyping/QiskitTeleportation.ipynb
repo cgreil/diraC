{
 "cells": [
  {
   "cell_type": "code",
   "execution_count": 1,
   "id": "49281ed3",
   "metadata": {},
   "outputs": [],
   "source": [
    "from qiskit import QuantumCircuit\n",
    "from qiskit.quantum_info import Statevector, Operator\n",
    "from qiskit.visualization import array_to_latex\n",
    "import numpy as np\n"
   ]
  },
  {
   "cell_type": "code",
   "execution_count": 2,
   "id": "64a1c840",
   "metadata": {
    "scrolled": true
   },
   "outputs": [
    {
     "name": "stdout",
     "output_type": "stream",
     "text": [
      "\n",
      "State after creation:\n",
      " Statevector([1.+0.j, 0.+0.j, 0.+0.j, 0.+0.j, 0.+0.j, 0.+0.j, 0.+0.j,\n",
      "             0.+0.j],\n",
      "            dims=(2, 2, 2))\n"
     ]
    }
   ],
   "source": [
    "# Step 0: Initialize the 3-qubit circuit. Also add 2 classical bits to store measurement results\n",
    "qc = QuantumCircuit(3, 2)\n",
    "\n",
    "sv = Statevector.from_instruction(qc.reverse_bits())\n",
    "print(\"\\nState after creation:\\n\", sv)"
   ]
  },
  {
   "cell_type": "code",
   "execution_count": 3,
   "id": "15bd4f74",
   "metadata": {
    "scrolled": false
   },
   "outputs": [
    {
     "name": "stdout",
     "output_type": "stream",
     "text": [
      "\n",
      "State after Bell Hadamard:\n",
      " Statevector([0.70710678+0.j, 0.        +0.j, 0.70710678+0.j,\n",
      "             0.        +0.j, 0.        +0.j, 0.        +0.j,\n",
      "             0.        +0.j, 0.        +0.j],\n",
      "            dims=(2, 2, 2))\n"
     ]
    }
   ],
   "source": [
    "qc.h(1)\n",
    "\n",
    "sv = Statevector.from_instruction(qc.reverse_bits())\n",
    "print(\"\\nState after Bell Hadamard:\\n\", sv)"
   ]
  },
  {
   "cell_type": "code",
   "execution_count": 4,
   "id": "c7ea8bfd",
   "metadata": {},
   "outputs": [
    {
     "name": "stdout",
     "output_type": "stream",
     "text": [
      "\n",
      "State after Bell CNOT:\n",
      " Statevector([0.70710678+0.j, 0.        +0.j, 0.        +0.j,\n",
      "             0.70710678+0.j, 0.        +0.j, 0.        +0.j,\n",
      "             0.        +0.j, 0.        +0.j],\n",
      "            dims=(2, 2, 2))\n"
     ]
    }
   ],
   "source": [
    "qc.cx(1,2)\n",
    "\n",
    "\n",
    "sv = Statevector.from_instruction(qc.reverse_bits())\n",
    "print(\"\\nState after Bell CNOT:\\n\", sv)"
   ]
  },
  {
   "cell_type": "code",
   "execution_count": 5,
   "id": "2d55a6dd",
   "metadata": {},
   "outputs": [
    {
     "name": "stdout",
     "output_type": "stream",
     "text": [
      "\n",
      "State after rx rotation: \n",
      " Statevector([0.5166289+0.j        , 0.       +0.j        ,\n",
      "             0.       +0.j        , 0.5166289+0.j        ,\n",
      "             0.       -0.48279869j, 0.       +0.j        ,\n",
      "             0.       +0.j        , 0.       -0.48279869j],\n",
      "            dims=(2, 2, 2))\n"
     ]
    }
   ],
   "source": [
    "# Create Rotation around axis\n",
    "qc.rx(1.503123, 0)\n",
    "\n",
    "sv = Statevector.from_instruction(qc.reverse_bits())\n",
    "print(\"\\nState after rx rotation: \\n\", sv)"
   ]
  },
  {
   "cell_type": "code",
   "execution_count": 6,
   "id": "05101ccc",
   "metadata": {},
   "outputs": [
    {
     "name": "stdout",
     "output_type": "stream",
     "text": [
      "\n",
      "State after ry rotation: \n",
      " Statevector([0.47325908+0.19363072j, 0.        +0.j        ,\n",
      "             0.        +0.j        , 0.47325908+0.19363072j,\n",
      "             0.20719862-0.44226884j, 0.        +0.j        ,\n",
      "             0.        +0.j        , 0.20719862-0.44226884j],\n",
      "            dims=(2, 2, 2))\n"
     ]
    }
   ],
   "source": [
    "qc.ry(0.825345, 0)\n",
    "\n",
    "sv = Statevector.from_instruction(qc.reverse_bits())\n",
    "print(\"\\nState after ry rotation: \\n\", sv)"
   ]
  },
  {
   "cell_type": "code",
   "execution_count": 7,
   "id": "36fe33da",
   "metadata": {
    "scrolled": true
   },
   "outputs": [
    {
     "name": "stdout",
     "output_type": "stream",
     "text": [
      "\n",
      "State after rz rotation: \n",
      " Statevector([-0.23136031-0.45600374j,  0.        +0.j        ,\n",
      "              0.        +0.j        , -0.23136031-0.45600374j,\n",
      "              0.13252301+0.47007515j,  0.        +0.j        ,\n",
      "              0.        +0.j        ,  0.13252301+0.47007515j],\n",
      "            dims=(2, 2, 2))\n"
     ]
    }
   ],
   "source": [
    "qc.rz(4.857364, 0)\n",
    "\n",
    "sv = Statevector.from_instruction(qc.reverse_bits())\n",
    "print(\"\\nState after rz rotation: \\n\", sv)"
   ]
  },
  {
   "cell_type": "code",
   "execution_count": 8,
   "id": "c1d74746",
   "metadata": {},
   "outputs": [
    {
     "name": "stdout",
     "output_type": "stream",
     "text": [
      "[[1.+0.j 0.+0.j 0.+0.j 0.+0.j]\n",
      " [0.+0.j 0.+0.j 0.+0.j 1.+0.j]\n",
      " [0.+0.j 0.+0.j 1.+0.j 0.+0.j]\n",
      " [0.+0.j 1.+0.j 0.+0.j 0.+0.j]]\n"
     ]
    }
   ],
   "source": [
    "# Inspect the CNOT matrix \n",
    "from qiskit.quantum_info import Operator\n",
    "from qiskit.circuit.library import CXGate\n",
    "\n",
    "x_gate = CXGate()\n",
    "print(Operator(x_gate).data)"
   ]
  },
  {
   "cell_type": "code",
   "execution_count": 9,
   "id": "59547539",
   "metadata": {},
   "outputs": [
    {
     "name": "stdout",
     "output_type": "stream",
     "text": [
      "\n",
      "State after second cnot: \n",
      " Statevector([-0.23136031-0.45600374j,  0.        +0.j        ,\n",
      "              0.        +0.j        , -0.23136031-0.45600374j,\n",
      "              0.        +0.j        ,  0.13252301+0.47007515j,\n",
      "              0.13252301+0.47007515j,  0.        +0.j        ],\n",
      "            dims=(2, 2, 2))\n"
     ]
    }
   ],
   "source": [
    "qc.cx(0,1)\n",
    "\n",
    "sv = Statevector.from_instruction(qc.reverse_bits())\n",
    "print(\"\\nState after second cnot: \\n\", sv)"
   ]
  },
  {
   "cell_type": "code",
   "execution_count": 10,
   "id": "c46c8333",
   "metadata": {},
   "outputs": [
    {
     "name": "stdout",
     "output_type": "stream",
     "text": [
      "\n",
      "State after H rotation:\n",
      " Statevector([-0.16359645-0.32244334j,  0.09370792+0.33239332j,\n",
      "              0.09370792+0.33239332j, -0.16359645-0.32244334j,\n",
      "             -0.16359645-0.32244334j, -0.09370792-0.33239332j,\n",
      "             -0.09370792-0.33239332j, -0.16359645-0.32244334j],\n",
      "            dims=(2, 2, 2))\n"
     ]
    }
   ],
   "source": [
    "had = qc.h(0)\n",
    "\n",
    "sv = Statevector.from_instruction(qc.reverse_bits())\n",
    "print(\"\\nState after H rotation:\\n\", sv)"
   ]
  },
  {
   "cell_type": "code",
   "execution_count": 22,
   "id": "6ee204f0",
   "metadata": {
    "scrolled": true
   },
   "outputs": [
    {
     "data": {
      "text/plain": [
       "('0',\n",
       " Statevector([-0.23136031-0.45600374j,  0.13252301+0.47007515j,\n",
       "               0.13252301+0.47007515j, -0.23136031-0.45600374j,\n",
       "               0.        +0.j        ,  0.        +0.j        ,\n",
       "               0.        +0.j        ,  0.        +0.j        ],\n",
       "             dims=(2, 2, 2)))"
      ]
     },
     "execution_count": 22,
     "metadata": {},
     "output_type": "execute_result"
    }
   ],
   "source": [
    "# simulate measurement on statevector\n",
    "sv.measure([2])"
   ]
  },
  {
   "cell_type": "code",
   "execution_count": 40,
   "id": "a845e9ef",
   "metadata": {},
   "outputs": [
    {
     "data": {
      "text/plain": [
       "('0',\n",
       " Statevector([-0.23136031-0.45600374j,  0.13252301+0.47007515j,\n",
       "               0.        +0.j        ,  0.        +0.j        ,\n",
       "              -0.23136031-0.45600374j, -0.13252301-0.47007515j,\n",
       "               0.        +0.j        ,  0.        +0.j        ],\n",
       "             dims=(2, 2, 2)))"
      ]
     },
     "execution_count": 40,
     "metadata": {},
     "output_type": "execute_result"
    }
   ],
   "source": [
    "sv.measure([1])"
   ]
  }
 ],
 "metadata": {
  "kernelspec": {
   "display_name": "Python 3 (ipykernel)",
   "language": "python",
   "name": "python3"
  },
  "language_info": {
   "codemirror_mode": {
    "name": "ipython",
    "version": 3
   },
   "file_extension": ".py",
   "mimetype": "text/x-python",
   "name": "python",
   "nbconvert_exporter": "python",
   "pygments_lexer": "ipython3",
   "version": "3.10.12"
  },
  "latex_envs": {
   "LaTeX_envs_menu_present": true,
   "autoclose": false,
   "autocomplete": true,
   "bibliofile": "biblio.bib",
   "cite_by": "apalike",
   "current_citInitial": 1,
   "eqLabelWithNumbers": true,
   "eqNumInitial": 1,
   "hotkeys": {
    "equation": "Ctrl-E",
    "itemize": "Ctrl-I"
   },
   "labels_anchors": false,
   "latex_user_defs": false,
   "report_style_numbering": false,
   "user_envs_cfg": true
  }
 },
 "nbformat": 4,
 "nbformat_minor": 5
}
